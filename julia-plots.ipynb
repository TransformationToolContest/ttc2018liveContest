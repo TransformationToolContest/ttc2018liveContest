{
 "cells": [
  {
   "cell_type": "code",
   "execution_count": 1,
   "metadata": {},
   "outputs": [
    {
     "data": {
      "text/plain": [
       "Plots.GRBackend()"
      ]
     },
     "execution_count": 1,
     "metadata": {},
     "output_type": "execute_result"
    }
   ],
   "source": [
    "using Plots\n",
    "using DataFrames\n",
    "using CSV\n",
    "using Query\n",
    "\n",
    "backend()"
   ]
  },
  {
   "cell_type": "code",
   "execution_count": 2,
   "metadata": {},
   "outputs": [],
   "source": [
    "x = 1:10; y = rand(10,2) # 2 columns means two lines\n",
    "plot(x,y,title=\"abc\")\n",
    "savefig(\"myplot.pdf\") # Saves the plot from p as a .pdf vector graphic"
   ]
  },
  {
   "cell_type": "code",
   "execution_count": 3,
   "metadata": {},
   "outputs": [
    {
     "data": {
      "text/html": [
       "<table class=\"data-frame\"><thead><tr><th></th><th>Tool</th><th>View</th><th>ChangeSet</th><th>RunIndex</th><th>Iteration</th><th>PhaseName</th><th>MetricName</th><th>MetricValue</th></tr></thead><tbody><tr><th>1</th><td>jastadd-ttc18-relast-emf-inc</td><td>Q1</td><td>1</td><td>0</td><td>0</td><td>Initialization</td><td>Time</td><td>183510119</td></tr><tr><th>2</th><td>jastadd-ttc18-relast-emf-inc</td><td>Q1</td><td>1</td><td>0</td><td>0</td><td>Initialization</td><td>Memory</td><td>7913400</td></tr><tr><th>3</th><td>jastadd-ttc18-relast-emf-inc</td><td>Q1</td><td>1</td><td>0</td><td>0</td><td>Load</td><td>Time</td><td>285321797</td></tr><tr><th>4</th><td>jastadd-ttc18-relast-emf-inc</td><td>Q1</td><td>1</td><td>0</td><td>0</td><td>Load</td><td>Memory</td><td>7428792</td></tr><tr><th>5</th><td>jastadd-ttc18-relast-emf-inc</td><td>Q2</td><td>1</td><td>0</td><td>0</td><td>Initialization</td><td>Time</td><td>176043764</td></tr><tr><th>6</th><td>jastadd-ttc18-relast-emf-inc</td><td>Q2</td><td>1</td><td>0</td><td>0</td><td>Initialization</td><td>Memory</td><td>7913448</td></tr></tbody></table>"
      ],
      "text/plain": [
       "6×8 DataFrames.DataFrame. Omitted printing of 3 columns\n",
       "│ Row │ Tool                         │ View │ ChangeSet │ RunIndex │ Iteration │\n",
       "├─────┼──────────────────────────────┼──────┼───────────┼──────────┼───────────┤\n",
       "│ 1   │ jastadd-ttc18-relast-emf-inc │ Q1   │ 1         │ 0        │ 0         │\n",
       "│ 2   │ jastadd-ttc18-relast-emf-inc │ Q1   │ 1         │ 0        │ 0         │\n",
       "│ 3   │ jastadd-ttc18-relast-emf-inc │ Q1   │ 1         │ 0        │ 0         │\n",
       "│ 4   │ jastadd-ttc18-relast-emf-inc │ Q1   │ 1         │ 0        │ 0         │\n",
       "│ 5   │ jastadd-ttc18-relast-emf-inc │ Q2   │ 1         │ 0        │ 0         │\n",
       "│ 6   │ jastadd-ttc18-relast-emf-inc │ Q2   │ 1         │ 0        │ 0         │"
      ]
     },
     "execution_count": 3,
     "metadata": {},
     "output_type": "execute_result"
    }
   ],
   "source": [
    "CSV.validate(\"output/output-without-elements.csv\", delim=\";\", header=1)\n",
    "\n",
    "data = CSV.read(\"output/output-without-elements.csv\", delim=\";\", header=1)\n",
    "head(data)"
   ]
  },
  {
   "cell_type": "code",
   "execution_count": 4,
   "metadata": {},
   "outputs": [
    {
     "data": {
      "text/html": [
       "<table class=\"data-frame\"><thead><tr><th></th><th>Tool</th><th>View</th><th>ChangeSet</th><th>PhaseName</th><th>MetricValue</th><th>Value</th><th>ShortTool</th></tr></thead><tbody><tr><th>1</th><td>jastadd-ttc18-relast-emf-inc</td><td>Q1</td><td>1</td><td>Initialization</td><td>183510119</td><td>183.51</td><td>relast-emf-inc</td></tr><tr><th>2</th><td>jastadd-ttc18-relast-emf-inc</td><td>Q1</td><td>1</td><td>Load</td><td>285321797</td><td>285.322</td><td>relast-emf-inc</td></tr><tr><th>3</th><td>jastadd-ttc18-relast-emf-inc</td><td>Q2</td><td>1</td><td>Initialization</td><td>176043764</td><td>176.044</td><td>relast-emf-inc</td></tr><tr><th>4</th><td>jastadd-ttc18-relast-emf-inc</td><td>Q2</td><td>1</td><td>Load</td><td>246596896</td><td>246.597</td><td>relast-emf-inc</td></tr><tr><th>5</th><td>jastadd-ttc18-relast-emf-inc</td><td>Q1</td><td>2</td><td>Initialization</td><td>179378789</td><td>179.379</td><td>relast-emf-inc</td></tr><tr><th>6</th><td>jastadd-ttc18-relast-emf-inc</td><td>Q1</td><td>2</td><td>Load</td><td>334370109</td><td>334.37</td><td>relast-emf-inc</td></tr></tbody></table>"
      ],
      "text/plain": [
       "6×7 DataFrames.DataFrame. Omitted printing of 3 columns\n",
       "│ Row │ Tool                         │ View │ ChangeSet │ PhaseName      │\n",
       "├─────┼──────────────────────────────┼──────┼───────────┼────────────────┤\n",
       "│ 1   │ jastadd-ttc18-relast-emf-inc │ Q1   │ 1         │ Initialization │\n",
       "│ 2   │ jastadd-ttc18-relast-emf-inc │ Q1   │ 1         │ Load           │\n",
       "│ 3   │ jastadd-ttc18-relast-emf-inc │ Q2   │ 1         │ Initialization │\n",
       "│ 4   │ jastadd-ttc18-relast-emf-inc │ Q2   │ 1         │ Load           │\n",
       "│ 5   │ jastadd-ttc18-relast-emf-inc │ Q1   │ 2         │ Initialization │\n",
       "│ 6   │ jastadd-ttc18-relast-emf-inc │ Q1   │ 2         │ Load           │"
      ]
     },
     "execution_count": 4,
     "metadata": {},
     "output_type": "execute_result"
    }
   ],
   "source": [
    "data1 = @from i in data begin\n",
    "        @where i.MetricName == \"Time\"\n",
    "        @let value = i.MetricValue / 10^6\n",
    "        @select {i.Tool, i.View, i.ChangeSet, i.PhaseName, i.MetricValue, Value=value}\n",
    "        @collect DataFrame\n",
    "end\n",
    "data1[:ShortTool] = map((x) -> x[15:end], data1[:Tool])\n",
    "head(data1)"
   ]
  },
  {
   "cell_type": "code",
   "execution_count": 5,
   "metadata": {},
   "outputs": [
    {
     "data": {
      "text/html": [
       "<table class=\"data-frame\"><thead><tr><th></th><th>ShortTool</th><th>ChangeSet</th><th>View</th><th>PhaseName</th><th>Mean</th></tr></thead><tbody><tr><th>1</th><td>relast-emf-inc</td><td>1</td><td>Q1</td><td>Initialization</td><td>183.51</td></tr><tr><th>2</th><td>relast-emf-inc</td><td>1</td><td>Q1</td><td>Load</td><td>285.322</td></tr><tr><th>3</th><td>relast-emf-inc</td><td>1</td><td>Q2</td><td>Initialization</td><td>176.044</td></tr><tr><th>4</th><td>relast-emf-inc</td><td>1</td><td>Q2</td><td>Load</td><td>246.597</td></tr><tr><th>5</th><td>relast-emf-inc</td><td>2</td><td>Q1</td><td>Initialization</td><td>179.379</td></tr><tr><th>6</th><td>relast-emf-inc</td><td>2</td><td>Q1</td><td>Load</td><td>334.37</td></tr></tbody></table>"
      ],
      "text/plain": [
       "6×5 DataFrames.DataFrame\n",
       "│ Row │ ShortTool      │ ChangeSet │ View │ PhaseName      │ Mean    │\n",
       "├─────┼────────────────┼───────────┼──────┼────────────────┼─────────┤\n",
       "│ 1   │ relast-emf-inc │ 1         │ Q1   │ Initialization │ 183.51  │\n",
       "│ 2   │ relast-emf-inc │ 1         │ Q1   │ Load           │ 285.322 │\n",
       "│ 3   │ relast-emf-inc │ 1         │ Q2   │ Initialization │ 176.044 │\n",
       "│ 4   │ relast-emf-inc │ 1         │ Q2   │ Load           │ 246.597 │\n",
       "│ 5   │ relast-emf-inc │ 2         │ Q1   │ Initialization │ 179.379 │\n",
       "│ 6   │ relast-emf-inc │ 2         │ Q1   │ Load           │ 334.37  │"
      ]
     },
     "execution_count": 5,
     "metadata": {},
     "output_type": "execute_result"
    }
   ],
   "source": [
    "datag = by(data1, [:ShortTool, :ChangeSet, :View, :PhaseName], df -> mean(df[:Value]))\n",
    "rename!(datag, :x1 => :Mean)\n",
    "head(datag)"
   ]
  },
  {
   "cell_type": "code",
   "execution_count": 6,
   "metadata": {},
   "outputs": [
    {
     "name": "stdout",
     "output_type": "stream",
     "text": [
      "-1.0 3.6943785108614433\n"
     ]
    }
   ],
   "source": [
    "minY = floor(log10(minimum(datag[:Mean])))\n",
    "maxY = log10(maximum(datag[:Mean]))\n",
    "println(minY, \" \", maxY)"
   ]
  },
  {
   "cell_type": "code",
   "execution_count": 7,
   "metadata": {},
   "outputs": [
    {
     "data": {
      "text/plain": [
       "Dict{String,DiagramInfo} with 6 entries:\n",
       "  \"relast-emf-flush\" => DiagramInfo(\"#cc79a7\", :rect, :solid, \"Flushing (EMF)\")\n",
       "  \"xml-inc\"          => DiagramInfo(\"#000000\", :circle, :dot, \"Incremental\")\n",
       "  \"xml-flush\"        => DiagramInfo(\"#e69f00\", :rect, :solid, \"Flushing\")\n",
       "  \"relast-xml-flush\" => DiagramInfo(\"#009e73\", :star4, :dashdot, \"Flushing (Rel…\n",
       "  \"relast-xml-inc\"   => DiagramInfo(\"#56b4e9\", :utriangle, :dash, \"Incremental …\n",
       "  \"relast-emf-inc\"   => DiagramInfo(\"#f0e442\", :circle, :dot, \"Incremental (EMF…"
      ]
     },
     "execution_count": 7,
     "metadata": {},
     "output_type": "execute_result"
    }
   ],
   "source": [
    "phase_names = Dict(\"Load\" => \"01-Load\", \"Initial\" => \"02-Initial\", \"Update\" => \"03-Update\")\n",
    "\n",
    "good_colors = [\"#000000\",\"#e69f00\",\"#56b4e9\",\"#009e73\",\"#f0e442\",\"#0072b2\",\"#d55e00\",\"#cc79a7\"]\n",
    "# possible: [:none,:auto,:circle,:rect,:star5,:diamond,:hexagon,:cross,:xcross,:utriangle,:dtriangle,\n",
    "#            :rtriangle,:ltriangle,:pentagon,:heptagon,:octagon,:star4,:star6,:star7,:star8,:vline,:hline,:+,:x]\n",
    "good_shapes = [:circle, :rect, :utriangle, :star4]\n",
    "# possible dashes are [:auto,:solid,:dash,:dot,:dashdot,:dashdotdot]\n",
    "good_dashes = [:dot, :solid, :dash, :dashdot]\n",
    "\n",
    "struct DiagramInfo\n",
    "    color::String\n",
    "    shape::Symbol\n",
    "    dash::Symbol\n",
    "    name::String\n",
    "end\n",
    "\n",
    "# color, shape, dash-type, name in legend\n",
    "diagram_info = Dict(\n",
    "    \"xml-inc\" =>          DiagramInfo(good_colors[1], good_shapes[1], good_dashes[1], \"Incremental\"),\n",
    "    \"xml-flush\" =>        DiagramInfo(good_colors[2], good_shapes[2], good_dashes[2], \"Flushing\"),\n",
    "    \"relast-xml-inc\" =>   DiagramInfo(good_colors[3], good_shapes[3], good_dashes[3], \"Incremental (Relations)\"),\n",
    "    \"relast-xml-flush\" => DiagramInfo(good_colors[4], good_shapes[4], good_dashes[4], \"Flushing (Relations)\"),\n",
    "    \"relast-emf-inc\" =>   DiagramInfo(good_colors[5], good_shapes[1], good_dashes[1], \"Incremental (EMF)\"),\n",
    "    \"relast-emf-flush\" => DiagramInfo(good_colors[8], good_shapes[2], good_dashes[2], \"Flushing (EMF)\")\n",
    ")"
   ]
  },
  {
   "cell_type": "code",
   "execution_count": 38,
   "metadata": {},
   "outputs": [
    {
     "data": {
      "text/plain": [
       "draw_scatter (generic function with 1 method)"
      ]
     },
     "execution_count": 38,
     "metadata": {},
     "output_type": "execute_result"
    }
   ],
   "source": [
    "#viewToPlot = \"Q1\"\n",
    "#phaseToPlot = \"Load\"\n",
    "function draw_scatter(datag, viewToPlot, phaseToPlot; drawLegend=false)\n",
    "    xtickvals = [1,2,4,8,16,32,64]\n",
    "    ytickvals = [minor * 10 ^ major for major = 0 : ceil(maxY) for minor = 1 : 10]\n",
    "    yticklabels = [minor == 1 ? trunc(Int, 10 ^ major) : \"\" for major = 0 : ceil(maxY) for minor = 1 : 10]\n",
    "    f = font(\"Computer Modern\", 16)\n",
    "    t = plot(scale = :log, foreground_color_border=\"black\", border=true,\n",
    "        xlims = (0.9, maximum(datag[:ChangeSet]) + 5), xticks = (xtickvals,xtickvals), xguide = \"ChangeSet\",\n",
    "        ylims = (1, 10000), yticks = (ytickvals, yticklabels), yguide = \"Time (ms)\",\n",
    "        foreground_color_grid=\"black\", grid = !drawLegend, tickfont=f, guidefont=f)\n",
    "\n",
    "    for toolname = map((x) -> lowercase(x), unique(datag[:ShortTool]))\n",
    "        sub = @from i in datag begin\n",
    "              @where i.View == viewToPlot && i.PhaseName == phaseToPlot && i.ShortTool == toolname\n",
    "              @select {i.ChangeSet, i.Mean}\n",
    "              @collect DataFrame\n",
    "        end\n",
    "        info = diagram_info[toolname]\n",
    "        plot!(sub[:ChangeSet], sub[:Mean], label=info.name,\n",
    "              linecolor=info.color, linestyle=info.dash,\n",
    "              markershape=info.shape, markercolor=info.color,\n",
    "              legend = drawLegend ? :bottom : :none)\n",
    "    end\n",
    "    phaseName = phase_names[phaseToPlot]\n",
    "    filename = \"diagrams/plot-$viewToPlot-$phaseName\"\n",
    "    if drawLegend\n",
    "        filename = filename * \"-Legend\"\n",
    "    end\n",
    "    savefig(filename * \".pdf\")\n",
    "end"
   ]
  },
  {
   "cell_type": "code",
   "execution_count": 39,
   "metadata": {
    "scrolled": false
   },
   "outputs": [],
   "source": [
    "needLegend = true\n",
    "for query = (printAll ? [\"Q1\", \"Q2\"] : [\"Q1\"])\n",
    "    for phase = (printAll ? [\"Load\", \"Initial\", \"Update\"] : [\"Update\"])\n",
    "        #new_data = output.query('View == @query & PhaseName == @phase')\n",
    "        draw_it = (draw_legend -> draw_scatter(datag, query, phase, drawLegend=needLegend))\n",
    "        if needLegend\n",
    "            draw_it(true)\n",
    "            needLegend = false\n",
    "        end\n",
    "        draw_it(false)\n",
    "    end\n",
    "end"
   ]
  }
 ],
 "metadata": {
  "kernelspec": {
   "display_name": "Julia 0.6.3",
   "language": "julia",
   "name": "julia-0.6"
  },
  "language_info": {
   "file_extension": ".jl",
   "mimetype": "application/julia",
   "name": "julia",
   "version": "0.6.3"
  }
 },
 "nbformat": 4,
 "nbformat_minor": 2
}
