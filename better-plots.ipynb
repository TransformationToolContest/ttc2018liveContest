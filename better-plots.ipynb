{
 "cells": [
  {
   "cell_type": "code",
   "execution_count": 1,
   "metadata": {
    "scrolled": true
   },
   "outputs": [
    {
     "name": "stdout",
     "output_type": "stream",
     "text": [
      "Requirement already satisfied: numpy in /home/rschoene/.local/lib/python3.6/site-packages\n",
      "Requirement already satisfied: pandas in /home/rschoene/.local/lib/python3.6/site-packages\n",
      "Requirement already satisfied: scipy in /home/rschoene/.local/lib/python3.6/site-packages\n",
      "Requirement already satisfied: matplotlib in /home/rschoene/.local/lib/python3.6/site-packages\n",
      "Requirement already satisfied: python-dateutil>=2 in /home/rschoene/.local/lib/python3.6/site-packages (from pandas)\n",
      "Requirement already satisfied: pytz>=2011k in /home/rschoene/.local/lib/python3.6/site-packages (from pandas)\n",
      "Requirement already satisfied: pyparsing!=2.0.4,!=2.1.2,!=2.1.6,>=2.0.1 in /usr/lib/python3.6/site-packages (from matplotlib)\n",
      "Requirement already satisfied: cycler>=0.10 in /home/rschoene/.local/lib/python3.6/site-packages (from matplotlib)\n",
      "Requirement already satisfied: six>=1.10 in /usr/lib/python3.6/site-packages (from matplotlib)\n"
     ]
    }
   ],
   "source": [
    "!pip3 install --user numpy pandas scipy matplotlib\n",
    "import pandas as pd\n",
    "import numpy as np\n",
    "import scipy as sp\n",
    "import matplotlib.pyplot as plt\n",
    "from matplotlib import colors as mcolors\n",
    "# import plotly.plotly as py\n",
    "# import plotly.figure_factory as ff\n",
    "# from plotly.graph_objs import *"
   ]
  },
  {
   "cell_type": "code",
   "execution_count": 10,
   "metadata": {},
   "outputs": [
    {
     "data": {
      "text/html": [
       "<script>requirejs.config({paths: { 'plotly': ['https://cdn.plot.ly/plotly-latest.min']},});if(!window.Plotly) {{require(['plotly'],function(plotly) {window.Plotly=plotly;});}}</script>"
      ],
      "text/vnd.plotly.v1+html": [
       "<script>requirejs.config({paths: { 'plotly': ['https://cdn.plot.ly/plotly-latest.min']},});if(!window.Plotly) {{require(['plotly'],function(plotly) {window.Plotly=plotly;});}}</script>"
      ]
     },
     "metadata": {},
     "output_type": "display_data"
    },
    {
     "data": {
      "text/plain": [
       "'3.1.0'"
      ]
     },
     "execution_count": 10,
     "metadata": {},
     "output_type": "execute_result"
    }
   ],
   "source": [
    "import plotly\n",
    "import plotly.graph_objs as go\n",
    "plotly.offline.init_notebook_mode(connected=True)\n",
    "plotly.__version__"
   ]
  },
  {
   "cell_type": "markdown",
   "metadata": {},
   "source": [
    "Use `plotly.offline.iplot()` when working offline in a Jupyter Notebook to display the plot in the notebook."
   ]
  },
  {
   "cell_type": "code",
   "execution_count": 2,
   "metadata": {},
   "outputs": [],
   "source": [
    "data = pd.read_csv('diagrams/Q1-GroupBy-Tool-Time-01-Load.csv')"
   ]
  },
  {
   "cell_type": "code",
   "execution_count": 8,
   "metadata": {},
   "outputs": [
    {
     "data": {
      "text/plain": [
       "[<matplotlib.lines.Line2D at 0x7fc80ad870f0>]"
      ]
     },
     "execution_count": 8,
     "metadata": {},
     "output_type": "execute_result"
    },
    {
     "data": {
      "image/png": "[encoded data removed]",
      "text/plain": [
       "<matplotlib.figure.Figure at 0x7fc83cada908>"
      ]
     },
     "metadata": {},
     "output_type": "display_data"
    }
   ],
   "source": [
    "plt.plot(data['ChangeSet'], data['mean'])"
   ]
  },
  {
   "cell_type": "code",
   "execution_count": 12,
   "metadata": {},
   "outputs": [],
   "source": [
    "df = data"
   ]
  },
  {
   "cell_type": "code",
   "execution_count": 40,
   "metadata": {},
   "outputs": [
    {
     "data": {
      "application/vnd.plotly.v1+json": {
       "data": [
        {
         "name": "relast-xml-flush",
         "type": "scatter",
         "uid": "db282d38-9a17-11e8-b9b8-3052cbe8778f",
         "x": [
          1,
          2,
          4,
          8,
          16,
          32
         ],
         "y": [
          16.472084869565197,
          22.1074440869565,
          34.1416675217391,
          48.4596862173913,
          263.077566217391,
          731.959785565217
         ]
        },
        {
         "name": "relast-xml-inc",
         "type": "scatter",
         "uid": "db282f9a-9a17-11e8-b9b8-3052cbe8778f",
         "x": [
          1,
          2,
          4,
          8,
          16,
          32
         ],
         "y": [
          13.951049695652198,
          13.6636395217391,
          19.2463622608696,
          24.050323304347803,
          36.889465304347794,
          50.0299773478261
         ]
        },
        {
         "name": "xml-flush",
         "type": "scatter",
         "uid": "db28312a-9a17-11e8-b9b8-3052cbe8778f",
         "x": [
          1,
          2,
          4,
          8,
          16,
          32
         ],
         "y": [
          17.8531383913043,
          23.575758,
          39.0907826521739,
          58.539090826087,
          298.494555608696,
          736.9207863478259
         ]
        },
        {
         "name": "xml-inc",
         "type": "scatter",
         "uid": "db283288-9a17-11e8-b9b8-3052cbe8778f",
         "x": [
          1,
          2,
          4,
          8,
          16,
          32
         ],
         "y": [
          16.231802304347802,
          19.1747145652174,
          30.3001551304348,
          40.4246487391304,
          67.5827166521739,
          121.04748213043501
         ]
        }
       ],
       "layout": {
        "showlegend": true,
        "title": "LiveContest Query 1 Load",
        "xaxis": {
         "tickvals": [
          1,
          2,
          4,
          8,
          16,
          32
         ],
         "title": "ChangeSet",
         "type": "log"
        },
        "yaxis": {
         "dtick": "D2",
         "range": [
          1,
          3
         ],
         "title": "Time (ms)",
         "type": "log"
        }
       }
      },
      "text/html": [
       "<div id=\"2fcfaf56-fb4a-46b3-8683-62ea769d0179\" style=\"height: 525px; width: 100%;\" class=\"plotly-graph-div\"></div><script type=\"text/javascript\">require([\"plotly\"], function(Plotly) { window.PLOTLYENV=window.PLOTLYENV || {};window.PLOTLYENV.BASE_URL=\"https://plot.ly\";\n",
       "        Plotly.plot(\n",
       "            '2fcfaf56-fb4a-46b3-8683-62ea769d0179',\n",
       "            [{\"name\": \"relast-xml-flush\", \"x\": [1.0, 2.0, 4.0, 8.0, 16.0, 32.0], \"y\": [16.472084869565197, 22.1074440869565, 34.1416675217391, 48.4596862173913, 263.077566217391, 731.959785565217], \"type\": \"scatter\", \"uid\": \"db282d38-9a17-11e8-b9b8-3052cbe8778f\"}, {\"name\": \"relast-xml-inc\", \"x\": [1.0, 2.0, 4.0, 8.0, 16.0, 32.0], \"y\": [13.951049695652198, 13.6636395217391, 19.2463622608696, 24.050323304347803, 36.889465304347794, 50.0299773478261], \"type\": \"scatter\", \"uid\": \"db282f9a-9a17-11e8-b9b8-3052cbe8778f\"}, {\"name\": \"xml-flush\", \"x\": [1.0, 2.0, 4.0, 8.0, 16.0, 32.0], \"y\": [17.8531383913043, 23.575758, 39.0907826521739, 58.539090826087, 298.494555608696, 736.9207863478259], \"type\": \"scatter\", \"uid\": \"db28312a-9a17-11e8-b9b8-3052cbe8778f\"}, {\"name\": \"xml-inc\", \"x\": [1.0, 2.0, 4.0, 8.0, 16.0, 32.0], \"y\": [16.231802304347802, 19.1747145652174, 30.3001551304348, 40.4246487391304, 67.5827166521739, 121.04748213043501], \"type\": \"scatter\", \"uid\": \"db283288-9a17-11e8-b9b8-3052cbe8778f\"}],\n",
       "            {\"showlegend\": true, \"title\": \"LiveContest Query 1 Load\", \"xaxis\": {\"tickvals\": [1, 2, 4, 8, 16, 32], \"title\": \"ChangeSet\", \"type\": \"log\"}, \"yaxis\": {\"dtick\": \"D2\", \"range\": [1, 3], \"title\": \"Time (ms)\", \"type\": \"log\"}},\n",
       "            {\"showLink\": true, \"linkText\": \"Export to plot.ly\"}\n",
       "        ).then(function () {return Plotly.addFrames('2fcfaf56-fb4a-46b3-8683-62ea769d0179',{});}).then(function(){Plotly.animate('2fcfaf56-fb4a-46b3-8683-62ea769d0179');})\n",
       "        });</script>"
      ],
      "text/vnd.plotly.v1+html": [
       "<div id=\"2fcfaf56-fb4a-46b3-8683-62ea769d0179\" style=\"height: 525px; width: 100%;\" class=\"plotly-graph-div\"></div><script type=\"text/javascript\">require([\"plotly\"], function(Plotly) { window.PLOTLYENV=window.PLOTLYENV || {};window.PLOTLYENV.BASE_URL=\"https://plot.ly\";\n",
       "        Plotly.plot(\n",
       "            '2fcfaf56-fb4a-46b3-8683-62ea769d0179',\n",
       "            [{\"name\": \"relast-xml-flush\", \"x\": [1.0, 2.0, 4.0, 8.0, 16.0, 32.0], \"y\": [16.472084869565197, 22.1074440869565, 34.1416675217391, 48.4596862173913, 263.077566217391, 731.959785565217], \"type\": \"scatter\", \"uid\": \"db282d38-9a17-11e8-b9b8-3052cbe8778f\"}, {\"name\": \"relast-xml-inc\", \"x\": [1.0, 2.0, 4.0, 8.0, 16.0, 32.0], \"y\": [13.951049695652198, 13.6636395217391, 19.2463622608696, 24.050323304347803, 36.889465304347794, 50.0299773478261], \"type\": \"scatter\", \"uid\": \"db282f9a-9a17-11e8-b9b8-3052cbe8778f\"}, {\"name\": \"xml-flush\", \"x\": [1.0, 2.0, 4.0, 8.0, 16.0, 32.0], \"y\": [17.8531383913043, 23.575758, 39.0907826521739, 58.539090826087, 298.494555608696, 736.9207863478259], \"type\": \"scatter\", \"uid\": \"db28312a-9a17-11e8-b9b8-3052cbe8778f\"}, {\"name\": \"xml-inc\", \"x\": [1.0, 2.0, 4.0, 8.0, 16.0, 32.0], \"y\": [16.231802304347802, 19.1747145652174, 30.3001551304348, 40.4246487391304, 67.5827166521739, 121.04748213043501], \"type\": \"scatter\", \"uid\": \"db283288-9a17-11e8-b9b8-3052cbe8778f\"}],\n",
       "            {\"showlegend\": true, \"title\": \"LiveContest Query 1 Load\", \"xaxis\": {\"tickvals\": [1, 2, 4, 8, 16, 32], \"title\": \"ChangeSet\", \"type\": \"log\"}, \"yaxis\": {\"dtick\": \"D2\", \"range\": [1, 3], \"title\": \"Time (ms)\", \"type\": \"log\"}},\n",
       "            {\"showLink\": true, \"linkText\": \"Export to plot.ly\"}\n",
       "        ).then(function () {return Plotly.addFrames('2fcfaf56-fb4a-46b3-8683-62ea769d0179',{});}).then(function(){Plotly.animate('2fcfaf56-fb4a-46b3-8683-62ea769d0179');})\n",
       "        });</script>"
      ]
     },
     "metadata": {},
     "output_type": "display_data"
    }
   ],
   "source": [
    "# create multiple scatters, filter df by Tool for each tool\n",
    "traces = []\n",
    "for toolname in df['Tool'].unique():\n",
    "    sub = df[df['Tool'] == toolname]\n",
    "    trace = go.Scatter(x = sub['ChangeSet'], y = sub['mean'],\n",
    "                       name=toolname.replace('jastadd-ttc18-', ''))\n",
    "    traces.append(trace)\n",
    "layout = go.Layout(title='LiveContest Query 1 Load',\n",
    "                   #plot_bgcolor='rgb(230, 230,230)',\n",
    "                   yaxis=dict(type='log', range=[1, 3], dtick='D2', title='Time (ms)'),\n",
    "                   xaxis=dict(type='log', title='ChangeSet', tickvals=[2**i for i in range(6)]),\n",
    "                   showlegend=True)\n",
    "fig = go.Figure(data=traces, layout=layout)\n",
    "\n",
    "plotly.offline.iplot(fig)"
   ]
  }
 ],
 "metadata": {
  "kernelspec": {
   "display_name": "Python 3",
   "language": "python",
   "name": "python3"
  },
  "language_info": {
   "codemirror_mode": {
    "name": "ipython",
    "version": 3
   },
   "file_extension": ".py",
   "mimetype": "text/x-python",
   "name": "python",
   "nbconvert_exporter": "python",
   "pygments_lexer": "ipython3",
   "version": "3.6.6"
  }
 },
 "nbformat": 4,
 "nbformat_minor": 2
}
